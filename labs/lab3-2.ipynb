{
 "cells": [
  {
   "cell_type": "markdown",
   "metadata": {},
   "source": [
    "### Lab 3.1: Batching and Regularization\n",
    "\n",
    "In this lab you will learn how to set up a dataset to be processed in batches, rather than processing the entire dataset in each training iteration, and explore neural network regularization."
   ]
  },
  {
   "cell_type": "code",
   "execution_count": 1,
   "metadata": {},
   "outputs": [],
   "source": [
    "import numpy as np\n",
    "import torch"
   ]
  },
  {
   "cell_type": "code",
   "execution_count": 2,
   "metadata": {},
   "outputs": [
    {
     "name": "stdout",
     "output_type": "stream",
     "text": [
      "{'uci_id': 2, 'name': 'Adult', 'repository_url': 'https://archive.ics.uci.edu/dataset/2/adult', 'data_url': 'https://archive.ics.uci.edu/static/public/2/data.csv', 'abstract': 'Predict whether annual income of an individual exceeds $50K/yr based on census data. Also known as \"Census Income\" dataset. ', 'area': 'Social Science', 'tasks': ['Classification'], 'characteristics': ['Multivariate'], 'num_instances': 48842, 'num_features': 14, 'feature_types': ['Categorical', 'Integer'], 'demographics': ['Age', 'Income', 'Education Level', 'Other', 'Race', 'Sex'], 'target_col': ['income'], 'index_col': None, 'has_missing_values': 'yes', 'missing_values_symbol': 'NaN', 'year_of_dataset_creation': 1996, 'last_updated': 'Tue Sep 24 2024', 'dataset_doi': '10.24432/C5XW20', 'creators': ['Barry Becker', 'Ronny Kohavi'], 'intro_paper': None, 'additional_info': {'summary': \"Extraction was done by Barry Becker from the 1994 Census database.  A set of reasonably clean records was extracted using the following conditions: ((AAGE>16) && (AGI>100) && (AFNLWGT>1)&& (HRSWK>0))\\n\\nPrediction task is to determine whether a person's income is over $50,000 a year.\\n\", 'purpose': None, 'funded_by': None, 'instances_represent': None, 'recommended_data_splits': None, 'sensitive_data': None, 'preprocessing_description': None, 'variable_info': 'Listing of attributes:\\r\\n\\r\\n>50K, <=50K.\\r\\n\\r\\nage: continuous.\\r\\nworkclass: Private, Self-emp-not-inc, Self-emp-inc, Federal-gov, Local-gov, State-gov, Without-pay, Never-worked.\\r\\nfnlwgt: continuous.\\r\\neducation: Bachelors, Some-college, 11th, HS-grad, Prof-school, Assoc-acdm, Assoc-voc, 9th, 7th-8th, 12th, Masters, 1st-4th, 10th, Doctorate, 5th-6th, Preschool.\\r\\neducation-num: continuous.\\r\\nmarital-status: Married-civ-spouse, Divorced, Never-married, Separated, Widowed, Married-spouse-absent, Married-AF-spouse.\\r\\noccupation: Tech-support, Craft-repair, Other-service, Sales, Exec-managerial, Prof-specialty, Handlers-cleaners, Machine-op-inspct, Adm-clerical, Farming-fishing, Transport-moving, Priv-house-serv, Protective-serv, Armed-Forces.\\r\\nrelationship: Wife, Own-child, Husband, Not-in-family, Other-relative, Unmarried.\\r\\nrace: White, Asian-Pac-Islander, Amer-Indian-Eskimo, Other, Black.\\r\\nsex: Female, Male.\\r\\ncapital-gain: continuous.\\r\\ncapital-loss: continuous.\\r\\nhours-per-week: continuous.\\r\\nnative-country: United-States, Cambodia, England, Puerto-Rico, Canada, Germany, Outlying-US(Guam-USVI-etc), India, Japan, Greece, South, China, Cuba, Iran, Honduras, Philippines, Italy, Poland, Jamaica, Vietnam, Mexico, Portugal, Ireland, France, Dominican-Republic, Laos, Ecuador, Taiwan, Haiti, Columbia, Hungary, Guatemala, Nicaragua, Scotland, Thailand, Yugoslavia, El-Salvador, Trinadad&Tobago, Peru, Hong, Holand-Netherlands.', 'citation': None}}\n",
      "              name     role         type      demographic  \\\n",
      "0              age  Feature      Integer              Age   \n",
      "1        workclass  Feature  Categorical           Income   \n",
      "2           fnlwgt  Feature      Integer             None   \n",
      "3        education  Feature  Categorical  Education Level   \n",
      "4    education-num  Feature      Integer  Education Level   \n",
      "5   marital-status  Feature  Categorical            Other   \n",
      "6       occupation  Feature  Categorical            Other   \n",
      "7     relationship  Feature  Categorical            Other   \n",
      "8             race  Feature  Categorical             Race   \n",
      "9              sex  Feature       Binary              Sex   \n",
      "10    capital-gain  Feature      Integer             None   \n",
      "11    capital-loss  Feature      Integer             None   \n",
      "12  hours-per-week  Feature      Integer             None   \n",
      "13  native-country  Feature  Categorical            Other   \n",
      "14          income   Target       Binary           Income   \n",
      "\n",
      "                                          description units missing_values  \n",
      "0                                                 N/A  None             no  \n",
      "1   Private, Self-emp-not-inc, Self-emp-inc, Feder...  None            yes  \n",
      "2                                                None  None             no  \n",
      "3    Bachelors, Some-college, 11th, HS-grad, Prof-...  None             no  \n",
      "4                                                None  None             no  \n",
      "5   Married-civ-spouse, Divorced, Never-married, S...  None             no  \n",
      "6   Tech-support, Craft-repair, Other-service, Sal...  None            yes  \n",
      "7   Wife, Own-child, Husband, Not-in-family, Other...  None             no  \n",
      "8   White, Asian-Pac-Islander, Amer-Indian-Eskimo,...  None             no  \n",
      "9                                       Female, Male.  None             no  \n",
      "10                                               None  None             no  \n",
      "11                                               None  None             no  \n",
      "12                                               None  None             no  \n",
      "13  United-States, Cambodia, England, Puerto-Rico,...  None            yes  \n",
      "14                                       >50K, <=50K.  None             no  \n"
     ]
    }
   ],
   "source": [
    "from ucimlrepo import fetch_ucirepo \n",
    "  \n",
    "# fetch dataset \n",
    "adult = fetch_ucirepo(id=2) \n",
    "  \n",
    "# data (as pandas dataframes) \n",
    "X = adult.data.features \n",
    "y = adult.data.targets \n",
    "  \n",
    "# metadata \n",
    "print(adult.metadata) \n",
    "  \n",
    "# variable information \n",
    "print(adult.variables)"
   ]
  },
  {
   "cell_type": "code",
   "execution_count": 3,
   "metadata": {},
   "outputs": [
    {
     "data": {
      "text/plain": [
       "Index(['age', 'workclass', 'fnlwgt', 'education', 'education-num',\n",
       "       'marital-status', 'occupation', 'relationship', 'race', 'sex',\n",
       "       'capital-gain', 'capital-loss', 'hours-per-week', 'native-country'],\n",
       "      dtype='object')"
      ]
     },
     "execution_count": 3,
     "metadata": {},
     "output_type": "execute_result"
    }
   ],
   "source": [
    "X.columns"
   ]
  },
  {
   "cell_type": "code",
   "execution_count": 4,
   "metadata": {},
   "outputs": [],
   "source": [
    "y = y['income'].map({'<=50K':0,'<=50K.':0,'>50K':1,'>50K.':1})"
   ]
  },
  {
   "cell_type": "markdown",
   "metadata": {},
   "source": [
    "Here I remove the missing values from the features and labels."
   ]
  },
  {
   "cell_type": "code",
   "execution_count": 5,
   "metadata": {},
   "outputs": [],
   "source": [
    "bad = X.isna().any(axis=1)\n",
    "X = X[~bad]\n",
    "y = y[~bad]"
   ]
  },
  {
   "cell_type": "markdown",
   "metadata": {},
   "source": [
    "Selecting only the numeric variables:"
   ]
  },
  {
   "cell_type": "code",
   "execution_count": 6,
   "metadata": {},
   "outputs": [],
   "source": [
    "X = X[['age','fnlwgt','education-num','capital-gain','capital-loss','hours-per-week']]"
   ]
  },
  {
   "cell_type": "code",
   "execution_count": 7,
   "metadata": {},
   "outputs": [],
   "source": [
    "y = y.values\n",
    "X = X.values.astype('float64')"
   ]
  },
  {
   "cell_type": "markdown",
   "metadata": {},
   "source": [
    "To make the learning algorithm work more smoothly, we we will subtract the mean of each feature.\n",
    "\n",
    "Here `np.mean` calculates a mean, and `axis=0` tells NumPy to calculate the mean over the rows (calculate the mean of each column)."
   ]
  },
  {
   "cell_type": "code",
   "execution_count": 8,
   "metadata": {},
   "outputs": [],
   "source": [
    "X -= np.mean(X,axis=0)\n",
    "X /= np.std(X,axis=0)"
   ]
  },
  {
   "cell_type": "markdown",
   "metadata": {},
   "source": [
    "Now we will convert our `X` and `y` arrays to torch Tensors."
   ]
  },
  {
   "cell_type": "code",
   "execution_count": 9,
   "metadata": {},
   "outputs": [],
   "source": [
    "X = torch.tensor(X).float()\n",
    "y = torch.tensor(y).long()"
   ]
  },
  {
   "cell_type": "markdown",
   "metadata": {},
   "source": [
    "### Exercises\n",
    "\n",
    "1. Divide the data into train and test splits.\n",
    "2. Create a neural network for this dataset.\n",
    "3. Use `TensorDataset` and `DataLoader` to batch the dataset during training.  \n",
    "4. Use `weight_decay` parameter to `optim.SGD` to introduce L2 regularization during training. Evaluate the effect of regularization on test set accuracy."
   ]
  },
  {
   "cell_type": "code",
   "execution_count": 10,
   "metadata": {},
   "outputs": [
    {
     "name": "stdout",
     "output_type": "stream",
     "text": [
      "Epoch 0, loss 0.2745862603187561\n",
      "Epoch 1, loss 0.417532742023468\n",
      "Epoch 2, loss 0.5407511591911316\n",
      "Epoch 3, loss 0.29488298296928406\n",
      "Epoch 4, loss 0.36891672015190125\n",
      "Epoch 5, loss 0.42763209342956543\n",
      "Epoch 6, loss 0.6220870614051819\n",
      "Epoch 7, loss 0.22156564891338348\n",
      "Epoch 8, loss 0.23471474647521973\n",
      "Epoch 9, loss 0.473153293132782\n",
      "Epoch 10, loss 0.25721150636672974\n",
      "Epoch 11, loss 0.2935134172439575\n",
      "Epoch 12, loss 0.1656373292207718\n",
      "Epoch 13, loss 0.48936471343040466\n",
      "Epoch 14, loss 0.27064546942710876\n",
      "Epoch 15, loss 0.310878723859787\n",
      "Epoch 16, loss 0.5345979332923889\n",
      "Epoch 17, loss 0.26673561334609985\n",
      "Epoch 18, loss 0.4345850944519043\n",
      "Epoch 19, loss 0.31383857131004333\n",
      "Epoch 20, loss 0.18812061846256256\n",
      "Epoch 21, loss 0.49090737104415894\n",
      "Epoch 22, loss 0.19499003887176514\n",
      "Epoch 23, loss 0.30512845516204834\n",
      "Epoch 24, loss 0.36596959829330444\n",
      "Epoch 25, loss 0.3337234556674957\n",
      "Epoch 26, loss 0.4680981934070587\n",
      "Epoch 27, loss 0.2382657378911972\n",
      "Epoch 28, loss 0.5252874493598938\n",
      "Epoch 29, loss 0.30885839462280273\n",
      "Epoch 30, loss 0.5440410375595093\n",
      "Epoch 31, loss 0.6940398812294006\n",
      "Epoch 32, loss 0.5540102124214172\n",
      "Epoch 33, loss 0.2686023712158203\n",
      "Epoch 34, loss 0.4900393486022949\n",
      "Epoch 35, loss 0.5060452222824097\n",
      "Epoch 36, loss 0.4483029246330261\n",
      "Epoch 37, loss 0.5561047196388245\n",
      "Epoch 38, loss 0.32290083169937134\n",
      "Epoch 39, loss 0.3887667953968048\n",
      "Epoch 40, loss 0.2616092264652252\n",
      "Epoch 41, loss 0.3803888261318207\n",
      "Epoch 42, loss 0.15812164545059204\n",
      "Epoch 43, loss 0.3414611518383026\n",
      "Epoch 44, loss 0.20010218024253845\n",
      "Epoch 45, loss 0.2893601059913635\n",
      "Epoch 46, loss 0.1569109708070755\n",
      "Epoch 47, loss 0.3853168487548828\n",
      "Epoch 48, loss 0.2440718412399292\n",
      "Epoch 49, loss 0.22141139209270477\n",
      "Epoch 50, loss 0.3242252469062805\n",
      "Epoch 51, loss 0.5816666483879089\n",
      "Epoch 52, loss 0.2983191907405853\n",
      "Epoch 53, loss 0.48822495341300964\n",
      "Epoch 54, loss 0.19587235152721405\n",
      "Epoch 55, loss 0.3182271420955658\n",
      "Epoch 56, loss 0.5639361143112183\n",
      "Epoch 57, loss 0.5545902252197266\n",
      "Epoch 58, loss 0.2549070715904236\n",
      "Epoch 59, loss 0.5848639011383057\n",
      "Epoch 60, loss 0.2890442907810211\n",
      "Epoch 61, loss 0.4985507130622864\n",
      "Epoch 62, loss 0.5537353754043579\n",
      "Epoch 63, loss 0.33975949883461\n",
      "Epoch 64, loss 0.29531803727149963\n",
      "Epoch 65, loss 0.3833279013633728\n",
      "Epoch 66, loss 0.22366613149642944\n",
      "Epoch 67, loss 0.23497657477855682\n",
      "Epoch 68, loss 0.3468218445777893\n",
      "Epoch 69, loss 0.2474047839641571\n",
      "Epoch 70, loss 0.2538834512233734\n",
      "Epoch 71, loss 0.3821781277656555\n",
      "Epoch 72, loss 0.3457960784435272\n",
      "Epoch 73, loss 0.35063987970352173\n",
      "Epoch 74, loss 0.391898512840271\n",
      "Epoch 75, loss 0.33257678151130676\n",
      "Epoch 76, loss 0.4461827576160431\n",
      "Epoch 77, loss 0.26706749200820923\n",
      "Epoch 78, loss 0.46916720271110535\n",
      "Epoch 79, loss 0.45876023173332214\n",
      "Epoch 80, loss 0.4224057197570801\n",
      "Epoch 81, loss 0.23237724602222443\n",
      "Epoch 82, loss 0.5923883318901062\n",
      "Epoch 83, loss 0.2068146914243698\n",
      "Epoch 84, loss 0.22516418993473053\n",
      "Epoch 85, loss 0.5408021807670593\n",
      "Epoch 86, loss 0.27982136607170105\n",
      "Epoch 87, loss 0.5904303193092346\n",
      "Epoch 88, loss 0.41604486107826233\n",
      "Epoch 89, loss 0.1481669545173645\n",
      "Epoch 90, loss 0.28462329506874084\n",
      "Epoch 91, loss 0.571595311164856\n",
      "Epoch 92, loss 0.4603580832481384\n",
      "Epoch 93, loss 0.5597779154777527\n",
      "Epoch 94, loss 0.24151399731636047\n",
      "Epoch 95, loss 0.24163006246089935\n",
      "Epoch 96, loss 0.3699507415294647\n",
      "Epoch 97, loss 0.38423871994018555\n",
      "Epoch 98, loss 0.20106802880764008\n",
      "Epoch 99, loss 0.37959903478622437\n"
     ]
    }
   ],
   "source": [
    "# divide data into training and testing set\n",
    "n = X.shape[0]\n",
    "n_train = int(n*0.8)\n",
    "n_test = n - n_train\n",
    "\n",
    "X_train = X[:n_train]\n",
    "y_train = y[:n_train]\n",
    "X_test = X[n_train:]\n",
    "y_test = y[n_train:]\n",
    "\n",
    "# create neural network for this dataset\n",
    "from torch import nn\n",
    "\n",
    "nn_model = nn.Sequential(\n",
    "    nn.Linear(6, 100),\n",
    "    nn.ReLU(),\n",
    "    nn.Linear(100, 100),\n",
    "    nn.ReLU(),\n",
    "    nn.Linear(100, 2)\n",
    ")\n",
    "\n",
    "# use TensorDataset and DataLoader to batch dataset during training\n",
    "from torch.utils.data import TensorDataset, DataLoader\n",
    "\n",
    "train_data = TensorDataset(X_train, y_train)\n",
    "train_loader = DataLoader(train_data, batch_size=64, shuffle=True)\n",
    "test_data = TensorDataset(X_test, y_test)\n",
    "test_loader = DataLoader(test_data, batch_size=64, shuffle=False)\n",
    "\n",
    "# use weight_decay parameter to optim.SGD to introduce L2 regularization during training\n",
    "from torch import optim\n",
    "\n",
    "optimizer = optim.SGD(nn_model.parameters(), lr=0.01, weight_decay=0.01)\n",
    "loss_fn = nn.CrossEntropyLoss()\n",
    "\n",
    "def train(model, train_loader, optimizer, loss_fn, n_epochs=100):\n",
    "    for epoch in range(n_epochs):\n",
    "        model.train()\n",
    "        for X_batch, y_batch in train_loader:\n",
    "            optimizer.zero_grad()\n",
    "            y_pred = model(X_batch)\n",
    "            loss = loss_fn(y_pred, y_batch)\n",
    "            loss.backward()\n",
    "            optimizer.step()\n",
    "        print(f'Epoch {epoch}, loss {loss.item()}')\n",
    "\n",
    "train(nn_model, train_loader, optimizer, loss_fn)"
   ]
  },
  {
   "cell_type": "code",
   "execution_count": 11,
   "metadata": {},
   "outputs": [
    {
     "name": "stdout",
     "output_type": "stream",
     "text": [
      "0.8141732283464567\n"
     ]
    }
   ],
   "source": [
    "# evaluate the effect of regularization on test set accuracy\n",
    "def test(model, test_loader):\n",
    "    correct = 0\n",
    "    total = 0\n",
    "    with torch.no_grad():\n",
    "        for X_batch, y_batch in test_loader:\n",
    "            y_pred = model(X_batch)\n",
    "            _, predicted = torch.max(y_pred, 1)\n",
    "            total += y_batch.size(0)\n",
    "            correct += (predicted == y_batch).sum().item()\n",
    "    return correct / total\n",
    "\n",
    "print(test(nn_model, test_loader))"
   ]
  },
  {
   "cell_type": "markdown",
   "metadata": {},
   "source": [
    "Achieved an accuracy of 81.38% on the test set with regularization."
   ]
  }
 ],
 "metadata": {
  "kernelspec": {
   "display_name": "env",
   "language": "python",
   "name": "python3"
  },
  "language_info": {
   "codemirror_mode": {
    "name": "ipython",
    "version": 3
   },
   "file_extension": ".py",
   "mimetype": "text/x-python",
   "name": "python",
   "nbconvert_exporter": "python",
   "pygments_lexer": "ipython3",
   "version": "3.10.6"
  }
 },
 "nbformat": 4,
 "nbformat_minor": 2
}
