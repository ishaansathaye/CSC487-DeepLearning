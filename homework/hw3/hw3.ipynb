{
  "cells": [
    {
      "cell_type": "code",
      "execution_count": 6,
      "metadata": {
        "id": "od1MCsjuzyla"
      },
      "outputs": [
        {
          "name": "stdout",
          "output_type": "stream",
          "text": [
            "Requirement already satisfied: tokenizers in /Users/jventu09/Library/CloudStorage/OneDrive-CalPoly/Teaching/CSC 487/.venv/lib/python3.9/site-packages (0.21.0)\n",
            "Requirement already satisfied: transformers in /Users/jventu09/Library/CloudStorage/OneDrive-CalPoly/Teaching/CSC 487/.venv/lib/python3.9/site-packages (4.49.0)\n",
            "Requirement already satisfied: torchmetrics in /Users/jventu09/Library/CloudStorage/OneDrive-CalPoly/Teaching/CSC 487/.venv/lib/python3.9/site-packages (1.6.1)\n",
            "Requirement already satisfied: huggingface-hub<1.0,>=0.16.4 in /Users/jventu09/Library/CloudStorage/OneDrive-CalPoly/Teaching/CSC 487/.venv/lib/python3.9/site-packages (from tokenizers) (0.29.1)\n",
            "Requirement already satisfied: filelock in /Users/jventu09/Library/CloudStorage/OneDrive-CalPoly/Teaching/CSC 487/.venv/lib/python3.9/site-packages (from transformers) (3.16.1)\n",
            "Requirement already satisfied: numpy>=1.17 in /Users/jventu09/Library/CloudStorage/OneDrive-CalPoly/Teaching/CSC 487/.venv/lib/python3.9/site-packages (from transformers) (2.0.2)\n",
            "Requirement already satisfied: packaging>=20.0 in /Users/jventu09/Library/CloudStorage/OneDrive-CalPoly/Teaching/CSC 487/.venv/lib/python3.9/site-packages (from transformers) (24.2)\n",
            "Requirement already satisfied: pyyaml>=5.1 in /Users/jventu09/Library/CloudStorage/OneDrive-CalPoly/Teaching/CSC 487/.venv/lib/python3.9/site-packages (from transformers) (6.0.2)\n",
            "Requirement already satisfied: regex!=2019.12.17 in /Users/jventu09/Library/CloudStorage/OneDrive-CalPoly/Teaching/CSC 487/.venv/lib/python3.9/site-packages (from transformers) (2024.11.6)\n",
            "Requirement already satisfied: requests in /Users/jventu09/Library/CloudStorage/OneDrive-CalPoly/Teaching/CSC 487/.venv/lib/python3.9/site-packages (from transformers) (2.32.3)\n",
            "Requirement already satisfied: safetensors>=0.4.1 in /Users/jventu09/Library/CloudStorage/OneDrive-CalPoly/Teaching/CSC 487/.venv/lib/python3.9/site-packages (from transformers) (0.5.2)\n",
            "Requirement already satisfied: tqdm>=4.27 in /Users/jventu09/Library/CloudStorage/OneDrive-CalPoly/Teaching/CSC 487/.venv/lib/python3.9/site-packages (from transformers) (4.67.1)\n",
            "Requirement already satisfied: torch>=2.0.0 in /Users/jventu09/Library/CloudStorage/OneDrive-CalPoly/Teaching/CSC 487/.venv/lib/python3.9/site-packages (from torchmetrics) (2.6.0)\n",
            "Requirement already satisfied: lightning-utilities>=0.8.0 in /Users/jventu09/Library/CloudStorage/OneDrive-CalPoly/Teaching/CSC 487/.venv/lib/python3.9/site-packages (from torchmetrics) (0.12.0)\n",
            "Requirement already satisfied: fsspec>=2023.5.0 in /Users/jventu09/Library/CloudStorage/OneDrive-CalPoly/Teaching/CSC 487/.venv/lib/python3.9/site-packages (from huggingface-hub<1.0,>=0.16.4->tokenizers) (2024.12.0)\n",
            "Requirement already satisfied: typing-extensions>=3.7.4.3 in /Users/jventu09/Library/CloudStorage/OneDrive-CalPoly/Teaching/CSC 487/.venv/lib/python3.9/site-packages (from huggingface-hub<1.0,>=0.16.4->tokenizers) (4.12.2)\n",
            "Requirement already satisfied: setuptools in /Users/jventu09/Library/CloudStorage/OneDrive-CalPoly/Teaching/CSC 487/.venv/lib/python3.9/site-packages (from lightning-utilities>=0.8.0->torchmetrics) (58.0.4)\n",
            "Requirement already satisfied: networkx in /Users/jventu09/Library/CloudStorage/OneDrive-CalPoly/Teaching/CSC 487/.venv/lib/python3.9/site-packages (from torch>=2.0.0->torchmetrics) (3.2.1)\n",
            "Requirement already satisfied: jinja2 in /Users/jventu09/Library/CloudStorage/OneDrive-CalPoly/Teaching/CSC 487/.venv/lib/python3.9/site-packages (from torch>=2.0.0->torchmetrics) (3.1.5)\n",
            "Requirement already satisfied: sympy==1.13.1 in /Users/jventu09/Library/CloudStorage/OneDrive-CalPoly/Teaching/CSC 487/.venv/lib/python3.9/site-packages (from torch>=2.0.0->torchmetrics) (1.13.1)\n",
            "Requirement already satisfied: mpmath<1.4,>=1.1.0 in /Users/jventu09/Library/CloudStorage/OneDrive-CalPoly/Teaching/CSC 487/.venv/lib/python3.9/site-packages (from sympy==1.13.1->torch>=2.0.0->torchmetrics) (1.3.0)\n",
            "Requirement already satisfied: charset-normalizer<4,>=2 in /Users/jventu09/Library/CloudStorage/OneDrive-CalPoly/Teaching/CSC 487/.venv/lib/python3.9/site-packages (from requests->transformers) (3.4.1)\n",
            "Requirement already satisfied: idna<4,>=2.5 in /Users/jventu09/Library/CloudStorage/OneDrive-CalPoly/Teaching/CSC 487/.venv/lib/python3.9/site-packages (from requests->transformers) (3.10)\n",
            "Requirement already satisfied: urllib3<3,>=1.21.1 in /Users/jventu09/Library/CloudStorage/OneDrive-CalPoly/Teaching/CSC 487/.venv/lib/python3.9/site-packages (from requests->transformers) (2.3.0)\n",
            "Requirement already satisfied: certifi>=2017.4.17 in /Users/jventu09/Library/CloudStorage/OneDrive-CalPoly/Teaching/CSC 487/.venv/lib/python3.9/site-packages (from requests->transformers) (2024.12.14)\n",
            "Requirement already satisfied: MarkupSafe>=2.0 in /Users/jventu09/Library/CloudStorage/OneDrive-CalPoly/Teaching/CSC 487/.venv/lib/python3.9/site-packages (from jinja2->torch>=2.0.0->torchmetrics) (3.0.2)\n",
            "\n",
            "\u001b[1m[\u001b[0m\u001b[34;49mnotice\u001b[0m\u001b[1;39;49m]\u001b[0m\u001b[39;49m A new release of pip is available: \u001b[0m\u001b[31;49m24.3.1\u001b[0m\u001b[39;49m -> \u001b[0m\u001b[32;49m25.0.1\u001b[0m\n",
            "\u001b[1m[\u001b[0m\u001b[34;49mnotice\u001b[0m\u001b[1;39;49m]\u001b[0m\u001b[39;49m To update, run: \u001b[0m\u001b[32;49mpip install --upgrade pip\u001b[0m\n"
          ]
        }
      ],
      "source": [
        "!pip install tokenizers transformers torchmetrics"
      ]
    },
    {
      "cell_type": "code",
      "execution_count": 7,
      "metadata": {
        "id": "eNzZsS19pFxI"
      },
      "outputs": [],
      "source": [
        "import numpy as np\n",
        "import sklearn\n",
        "import torch\n",
        "import os\n",
        "import pandas as pd\n",
        "import tqdm\n",
        "\n",
        "import torch\n",
        "from torch import nn\n",
        "from torch.utils.data import Dataset, DataLoader\n",
        "import torchmetrics"
      ]
    },
    {
      "cell_type": "code",
      "execution_count": 8,
      "metadata": {
        "id": "kLoLtUCUZ6J6"
      },
      "outputs": [],
      "source": [
        "device = 'cpu'"
      ]
    },
    {
      "cell_type": "code",
      "execution_count": 9,
      "metadata": {
        "id": "nHGLy49dpcvv"
      },
      "outputs": [],
      "source": [
        "if not os.path.exists('IMDB-Dataset.csv'):\n",
        "  !wget -O IMDB-Dataset.csv -q \"https://www.dropbox.com/scl/fi/0c7zc2adk1mgwgut5w80w/IMDB-Dataset.csv?rlkey=1drfg4zw36mhu32ndy2ihnygw&dl=1\""
      ]
    },
    {
      "cell_type": "code",
      "execution_count": 10,
      "metadata": {
        "colab": {
          "base_uri": "https://localhost:8080/",
          "height": 204
        },
        "id": "NEczcgxSplh6",
        "outputId": "918cbdb2-d9ff-4d08-a441-ce4e488e37b3"
      },
      "outputs": [
        {
          "data": {
            "text/html": [
              "<div>\n",
              "<style scoped>\n",
              "    .dataframe tbody tr th:only-of-type {\n",
              "        vertical-align: middle;\n",
              "    }\n",
              "\n",
              "    .dataframe tbody tr th {\n",
              "        vertical-align: top;\n",
              "    }\n",
              "\n",
              "    .dataframe thead th {\n",
              "        text-align: right;\n",
              "    }\n",
              "</style>\n",
              "<table border=\"1\" class=\"dataframe\">\n",
              "  <thead>\n",
              "    <tr style=\"text-align: right;\">\n",
              "      <th></th>\n",
              "      <th>review</th>\n",
              "      <th>sentiment</th>\n",
              "    </tr>\n",
              "  </thead>\n",
              "  <tbody>\n",
              "    <tr>\n",
              "      <th>0</th>\n",
              "      <td>One of the other reviewers has mentioned that ...</td>\n",
              "      <td>positive</td>\n",
              "    </tr>\n",
              "    <tr>\n",
              "      <th>1</th>\n",
              "      <td>A wonderful little production. &lt;br /&gt;&lt;br /&gt;The...</td>\n",
              "      <td>positive</td>\n",
              "    </tr>\n",
              "    <tr>\n",
              "      <th>2</th>\n",
              "      <td>I thought this was a wonderful way to spend ti...</td>\n",
              "      <td>positive</td>\n",
              "    </tr>\n",
              "    <tr>\n",
              "      <th>3</th>\n",
              "      <td>Basically there's a family where a little boy ...</td>\n",
              "      <td>negative</td>\n",
              "    </tr>\n",
              "    <tr>\n",
              "      <th>4</th>\n",
              "      <td>Petter Mattei's \"Love in the Time of Money\" is...</td>\n",
              "      <td>positive</td>\n",
              "    </tr>\n",
              "  </tbody>\n",
              "</table>\n",
              "</div>"
            ],
            "text/plain": [
              "                                              review sentiment\n",
              "0  One of the other reviewers has mentioned that ...  positive\n",
              "1  A wonderful little production. <br /><br />The...  positive\n",
              "2  I thought this was a wonderful way to spend ti...  positive\n",
              "3  Basically there's a family where a little boy ...  negative\n",
              "4  Petter Mattei's \"Love in the Time of Money\" is...  positive"
            ]
          },
          "execution_count": 10,
          "metadata": {},
          "output_type": "execute_result"
        }
      ],
      "source": [
        "df = pd.read_csv('IMDB-Dataset.csv')\n",
        "df.head()"
      ]
    },
    {
      "cell_type": "code",
      "execution_count": 11,
      "metadata": {
        "id": "PGpnyq9EpvE4"
      },
      "outputs": [],
      "source": [
        "text = list(df['review'].str.replace('<br />',''))\n",
        "labels = np.array(df['sentiment'].map({'negative':0,'positive':1}))"
      ]
    },
    {
      "cell_type": "code",
      "execution_count": 12,
      "metadata": {
        "colab": {
          "base_uri": "https://localhost:8080/"
        },
        "id": "63sVLwZ1xhFB",
        "outputId": "c111c3a8-e5f8-4e8b-fde1-751351c58f90"
      },
      "outputs": [],
      "source": [
        "from transformers import AutoTokenizer\n",
        "tokenizer = AutoTokenizer.from_pretrained(\"bert-base-cased\")"
      ]
    },
    {
      "cell_type": "markdown",
      "metadata": {
        "id": "9xGZ7zEgaNZv"
      },
      "source": [
        "Example of how to tokenize text:\n"
      ]
    },
    {
      "cell_type": "code",
      "execution_count": 13,
      "metadata": {
        "colab": {
          "base_uri": "https://localhost:8080/",
          "height": 35
        },
        "id": "RO9817pyaQrn",
        "outputId": "d4d54957-4ce6-4570-b007-9607ccb59229"
      },
      "outputs": [
        {
          "data": {
            "text/plain": [
              "'One of the'"
            ]
          },
          "execution_count": 13,
          "metadata": {},
          "output_type": "execute_result"
        }
      ],
      "source": [
        "seq = text[0][:10]\n",
        "seq"
      ]
    },
    {
      "cell_type": "code",
      "execution_count": 14,
      "metadata": {
        "colab": {
          "base_uri": "https://localhost:8080/"
        },
        "id": "7Kr2qH8HaPll",
        "outputId": "b011bc81-2bf4-41a2-978a-aa47a7a3fe58"
      },
      "outputs": [
        {
          "data": {
            "text/plain": [
              "[101, 1448, 1104, 1103, 102]"
            ]
          },
          "execution_count": 14,
          "metadata": {},
          "output_type": "execute_result"
        }
      ],
      "source": [
        "token_ids = tokenizer(seq)['input_ids']\n",
        "token_ids"
      ]
    },
    {
      "cell_type": "code",
      "execution_count": 15,
      "metadata": {
        "colab": {
          "background_save": true
        },
        "id": "wR6rV-W3ZBsO",
        "outputId": "69fada11-bf46-4268-d7f6-803cf1975a2e"
      },
      "outputs": [
        {
          "data": {
            "text/plain": [
              "'[CLS] One of the [SEP] [PAD] [PAD] [PAD]'"
            ]
          },
          "execution_count": 15,
          "metadata": {},
          "output_type": "execute_result"
        }
      ],
      "source": [
        "tokenizer.decode(token_ids+[0,0,0])"
      ]
    },
    {
      "cell_type": "code",
      "execution_count": null,
      "metadata": {
        "id": "StP-erbAayCO"
      },
      "outputs": [],
      "source": []
    }
  ],
  "metadata": {
    "colab": {
      "provenance": []
    },
    "kernelspec": {
      "display_name": ".venv",
      "language": "python",
      "name": "python3"
    },
    "language_info": {
      "codemirror_mode": {
        "name": "ipython",
        "version": 3
      },
      "file_extension": ".py",
      "mimetype": "text/x-python",
      "name": "python",
      "nbconvert_exporter": "python",
      "pygments_lexer": "ipython3",
      "version": "3.9.6"
    }
  },
  "nbformat": 4,
  "nbformat_minor": 0
}
