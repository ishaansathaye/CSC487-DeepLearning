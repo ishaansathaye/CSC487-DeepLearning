{
  "cells": [
    {
      "cell_type": "markdown",
      "metadata": {},
      "source": [
        "# Homework 3"
      ]
    },
    {
      "cell_type": "code",
      "execution_count": null,
      "metadata": {
        "id": "od1MCsjuzyla"
      },
      "outputs": [],
      "source": [
        "!pip install tokenizers transformers torchmetrics"
      ]
    },
    {
      "cell_type": "code",
      "execution_count": 39,
      "metadata": {
        "id": "eNzZsS19pFxI"
      },
      "outputs": [],
      "source": [
        "import numpy as np\n",
        "import sklearn\n",
        "import torch\n",
        "import os\n",
        "import pandas as pd\n",
        "import tqdm\n",
        "\n",
        "import torch\n",
        "from torch import nn\n",
        "from torch.utils.data import Dataset, DataLoader\n",
        "import torchmetrics"
      ]
    },
    {
      "cell_type": "code",
      "execution_count": 40,
      "metadata": {
        "id": "kLoLtUCUZ6J6"
      },
      "outputs": [],
      "source": [
        "device = 'cpu'"
      ]
    },
    {
      "cell_type": "code",
      "execution_count": null,
      "metadata": {
        "id": "nHGLy49dpcvv"
      },
      "outputs": [],
      "source": [
        "if not os.path.exists('IMDB-Dataset.csv'):\n",
        "  !wget -O IMDB-Dataset.csv -q \"https://www.dropbox.com/scl/fi/0c7zc2adk1mgwgut5w80w/IMDB-Dataset.csv?rlkey=1drfg4zw36mhu32ndy2ihnygw&dl=1\""
      ]
    },
    {
      "cell_type": "code",
      "execution_count": 42,
      "metadata": {
        "colab": {
          "base_uri": "https://localhost:8080/",
          "height": 204
        },
        "id": "NEczcgxSplh6",
        "outputId": "918cbdb2-d9ff-4d08-a441-ce4e488e37b3"
      },
      "outputs": [
        {
          "data": {
            "text/html": [
              "<div>\n",
              "<style scoped>\n",
              "    .dataframe tbody tr th:only-of-type {\n",
              "        vertical-align: middle;\n",
              "    }\n",
              "\n",
              "    .dataframe tbody tr th {\n",
              "        vertical-align: top;\n",
              "    }\n",
              "\n",
              "    .dataframe thead th {\n",
              "        text-align: right;\n",
              "    }\n",
              "</style>\n",
              "<table border=\"1\" class=\"dataframe\">\n",
              "  <thead>\n",
              "    <tr style=\"text-align: right;\">\n",
              "      <th></th>\n",
              "      <th>review</th>\n",
              "      <th>sentiment</th>\n",
              "    </tr>\n",
              "  </thead>\n",
              "  <tbody>\n",
              "    <tr>\n",
              "      <th>0</th>\n",
              "      <td>One of the other reviewers has mentioned that ...</td>\n",
              "      <td>positive</td>\n",
              "    </tr>\n",
              "    <tr>\n",
              "      <th>1</th>\n",
              "      <td>A wonderful little production. &lt;br /&gt;&lt;br /&gt;The...</td>\n",
              "      <td>positive</td>\n",
              "    </tr>\n",
              "    <tr>\n",
              "      <th>2</th>\n",
              "      <td>I thought this was a wonderful way to spend ti...</td>\n",
              "      <td>positive</td>\n",
              "    </tr>\n",
              "    <tr>\n",
              "      <th>3</th>\n",
              "      <td>Basically there's a family where a little boy ...</td>\n",
              "      <td>negative</td>\n",
              "    </tr>\n",
              "    <tr>\n",
              "      <th>4</th>\n",
              "      <td>Petter Mattei's \"Love in the Time of Money\" is...</td>\n",
              "      <td>positive</td>\n",
              "    </tr>\n",
              "  </tbody>\n",
              "</table>\n",
              "</div>"
            ],
            "text/plain": [
              "                                              review sentiment\n",
              "0  One of the other reviewers has mentioned that ...  positive\n",
              "1  A wonderful little production. <br /><br />The...  positive\n",
              "2  I thought this was a wonderful way to spend ti...  positive\n",
              "3  Basically there's a family where a little boy ...  negative\n",
              "4  Petter Mattei's \"Love in the Time of Money\" is...  positive"
            ]
          },
          "execution_count": 42,
          "metadata": {},
          "output_type": "execute_result"
        }
      ],
      "source": [
        "df = pd.read_csv('IMDB-Dataset.csv')\n",
        "df.head()"
      ]
    },
    {
      "cell_type": "code",
      "execution_count": 43,
      "metadata": {
        "id": "PGpnyq9EpvE4"
      },
      "outputs": [],
      "source": [
        "text = list(df['review'].str.replace('<br />',''))\n",
        "labels = np.array(df['sentiment'].map({'negative':0,'positive':1}))"
      ]
    },
    {
      "cell_type": "code",
      "execution_count": 44,
      "metadata": {
        "colab": {
          "base_uri": "https://localhost:8080/"
        },
        "id": "63sVLwZ1xhFB",
        "outputId": "c111c3a8-e5f8-4e8b-fde1-751351c58f90"
      },
      "outputs": [],
      "source": [
        "from transformers import AutoTokenizer\n",
        "tokenizer = AutoTokenizer.from_pretrained(\"bert-base-cased\")"
      ]
    },
    {
      "cell_type": "markdown",
      "metadata": {
        "id": "9xGZ7zEgaNZv"
      },
      "source": [
        "Example of how to tokenize text:\n"
      ]
    },
    {
      "cell_type": "code",
      "execution_count": 45,
      "metadata": {
        "colab": {
          "base_uri": "https://localhost:8080/",
          "height": 35
        },
        "id": "RO9817pyaQrn",
        "outputId": "d4d54957-4ce6-4570-b007-9607ccb59229"
      },
      "outputs": [
        {
          "data": {
            "text/plain": [
              "'One of the'"
            ]
          },
          "execution_count": 45,
          "metadata": {},
          "output_type": "execute_result"
        }
      ],
      "source": [
        "seq = text[0][:10]\n",
        "seq"
      ]
    },
    {
      "cell_type": "code",
      "execution_count": 46,
      "metadata": {
        "colab": {
          "base_uri": "https://localhost:8080/"
        },
        "id": "7Kr2qH8HaPll",
        "outputId": "b011bc81-2bf4-41a2-978a-aa47a7a3fe58"
      },
      "outputs": [
        {
          "data": {
            "text/plain": [
              "[101, 1448, 1104, 1103, 102]"
            ]
          },
          "execution_count": 46,
          "metadata": {},
          "output_type": "execute_result"
        }
      ],
      "source": [
        "token_ids = tokenizer(seq)['input_ids']\n",
        "token_ids"
      ]
    },
    {
      "cell_type": "code",
      "execution_count": 47,
      "metadata": {
        "colab": {
          "background_save": true
        },
        "id": "wR6rV-W3ZBsO",
        "outputId": "69fada11-bf46-4268-d7f6-803cf1975a2e"
      },
      "outputs": [
        {
          "data": {
            "text/plain": [
              "'[CLS] One of the [SEP] [PAD] [PAD] [PAD]'"
            ]
          },
          "execution_count": 47,
          "metadata": {},
          "output_type": "execute_result"
        }
      ],
      "source": [
        "tokenizer.decode(token_ids+[0,0,0])"
      ]
    },
    {
      "cell_type": "markdown",
      "metadata": {},
      "source": [
        "Bag of Words Model:"
      ]
    },
    {
      "cell_type": "code",
      "execution_count": 48,
      "metadata": {},
      "outputs": [
        {
          "name": "stdout",
          "output_type": "stream",
          "text": [
            "Train accuracy: 1.0\n",
            "Test accuracy: 0.8654\n"
          ]
        }
      ],
      "source": [
        "from sklearn.model_selection import train_test_split\n",
        "from sklearn.feature_extraction.text import TfidfVectorizer\n",
        "from sklearn.neural_network import MLPClassifier\n",
        "\n",
        "X_train, X_test, y_train, y_test = train_test_split(\n",
        "    text, labels, test_size=0.1, random_state=42, stratify=labels\n",
        ")\n",
        "\n",
        "# TF-IDF weighted histograms using the top 1000 words\n",
        "vectorizer = TfidfVectorizer(max_features=1000)\n",
        "X_train_tfidf = vectorizer.fit_transform(X_train)\n",
        "X_test_tfidf = vectorizer.transform(X_test)\n",
        "\n",
        "# MLP Classifier\n",
        "mlp = MLPClassifier(hidden_layer_sizes=(100,), max_iter=300, random_state=42)\n",
        "mlp.fit(X_train_tfidf, y_train)\n",
        "\n",
        "train_accuracy = mlp.score(X_train_tfidf, y_train)\n",
        "test_accuracy = mlp.score(X_test_tfidf, y_test)\n",
        "\n",
        "print(\"Train accuracy:\", train_accuracy)\n",
        "print(\"Test accuracy:\", test_accuracy)"
      ]
    },
    {
      "cell_type": "markdown",
      "metadata": {},
      "source": [
        "RNN Model:"
      ]
    },
    {
      "cell_type": "code",
      "execution_count": 49,
      "metadata": {},
      "outputs": [
        {
          "name": "stderr",
          "output_type": "stream",
          "text": [
            "Token indices sequence length is longer than the specified maximum sequence length for this model (543 > 512). Running this sequence through the model will result in indexing errors\n"
          ]
        }
      ],
      "source": [
        "# pre-tokenized dataset\n",
        "pretokenized_texts = [tokenizer(t)['input_ids'] for t in text]\n",
        "\n",
        "# 90/10 train/test split\n",
        "train_texts, test_texts, train_labels, test_labels = train_test_split(\n",
        "    pretokenized_texts, labels, test_size=0.1, random_state=42, stratify=labels\n",
        ")"
      ]
    },
    {
      "cell_type": "code",
      "execution_count": 52,
      "metadata": {},
      "outputs": [],
      "source": [
        "# Custom Dataset class for tokenized text\n",
        "import random\n",
        "\n",
        "class IMDBDataset(Dataset):\n",
        "    def __init__(self, tokenized_texts, labels, max_seq_len=100):\n",
        "        self.tokenized_texts = tokenized_texts\n",
        "        self.labels = labels\n",
        "        self.max_seq_len = max_seq_len\n",
        "        \n",
        "    def __len__(self):\n",
        "        return len(self.tokenized_texts)\n",
        "    \n",
        "    def __getitem__(self, idx):\n",
        "        tokens = self.tokenized_texts[idx]\n",
        "        # Longer than max_seq_len take random contiguous sub-sequence\n",
        "        if len(tokens) > self.max_seq_len:\n",
        "            start_idx = random.randint(0, len(tokens) - self.max_seq_len)\n",
        "            tokens = tokens[start_idx:start_idx + self.max_seq_len]\n",
        "        else:\n",
        "            # Pad the sequence with token index 0 if too short\n",
        "            tokens = tokens + [0] * (self.max_seq_len - len(tokens))\n",
        "        tokens = torch.tensor(tokens, dtype=torch.long)\n",
        "        label = torch.tensor(self.labels[idx], dtype=torch.float)\n",
        "        return tokens, label"
      ]
    },
    {
      "cell_type": "code",
      "execution_count": 55,
      "metadata": {},
      "outputs": [],
      "source": [
        "# Create dataset and dataloader objects\n",
        "max_seq_len = 100\n",
        "batch_size = 32\n",
        "\n",
        "train_dataset = IMDBDataset(train_texts, train_labels, max_seq_len)\n",
        "test_dataset = IMDBDataset(test_texts, test_labels, max_seq_len)\n",
        "\n",
        "train_loader = DataLoader(train_dataset, batch_size=batch_size, shuffle=True)\n",
        "test_loader  = DataLoader(test_dataset, batch_size=batch_size)\n",
        "\n",
        "# GRU-based sentiment classifier model\n",
        "class GRUSentimentClassifier(nn.Module):\n",
        "    def __init__(self, vocab_size, embedding_dim=100, hidden_size=100, num_layers=3):\n",
        "        super(GRUSentimentClassifier, self).__init__()\n",
        "        self.embedding = nn.Embedding(vocab_size, embedding_dim, padding_idx=0)\n",
        "        self.gru = nn.GRU(\n",
        "            input_size=embedding_dim,\n",
        "            hidden_size=hidden_size,\n",
        "            num_layers=num_layers,\n",
        "            batch_first=True\n",
        "        )\n",
        "        self.fc = nn.Linear(hidden_size, 1)\n",
        "        \n",
        "    def forward(self, x):\n",
        "        embedded = self.embedding(x)\n",
        "        output, hidden = self.gru(embedded)\n",
        "        last_hidden = hidden[-1]\n",
        "        logits = self.fc(last_hidden)\n",
        "        return logits.squeeze(1)"
      ]
    },
    {
      "cell_type": "code",
      "execution_count": 56,
      "metadata": {},
      "outputs": [
        {
          "name": "stdout",
          "output_type": "stream",
          "text": [
            "Epoch 1/10 | Loss: 0.6442, Accuracy: 0.6164\n",
            "Epoch 2/10 | Loss: 0.4953, Accuracy: 0.7598\n",
            "Epoch 3/10 | Loss: 0.4214, Accuracy: 0.8042\n",
            "Epoch 4/10 | Loss: 0.3831, Accuracy: 0.8267\n",
            "Epoch 5/10 | Loss: 0.3559, Accuracy: 0.8405\n",
            "Epoch 6/10 | Loss: 0.3398, Accuracy: 0.8495\n",
            "Epoch 7/10 | Loss: 0.3198, Accuracy: 0.8603\n",
            "Epoch 8/10 | Loss: 0.3061, Accuracy: 0.8677\n",
            "Epoch 9/10 | Loss: 0.2923, Accuracy: 0.8742\n",
            "Epoch 10/10 | Loss: 0.2712, Accuracy: 0.8850\n"
          ]
        }
      ],
      "source": [
        "vocab_size = tokenizer.vocab_size\n",
        "model = GRUSentimentClassifier(vocab_size=vocab_size, embedding_dim=100, hidden_size=100, num_layers=3)\n",
        "\n",
        "model = model.to(device)\n",
        "\n",
        "# Adam optimizer with learning rate 3e-4\n",
        "optimizer = torch.optim.Adam(model.parameters(), lr=3e-4)\n",
        "criterion = nn.BCEWithLogitsLoss()\n",
        "num_epochs = 10\n",
        "\n",
        "for epoch in range(num_epochs):\n",
        "    model.train()\n",
        "    total_loss = 0.0\n",
        "    total_correct = 0\n",
        "    total_examples = 0\n",
        "    \n",
        "    for inputs, labels in train_loader:\n",
        "        inputs, labels = inputs.to(device), labels.to(device)\n",
        "        optimizer.zero_grad()\n",
        "        logits = model(inputs)\n",
        "        loss = criterion(logits, labels)\n",
        "        loss.backward()\n",
        "        optimizer.step()\n",
        "        \n",
        "        total_loss += loss.item() * inputs.size(0)\n",
        "        preds = (torch.sigmoid(logits) > 0.5).float()\n",
        "        total_correct += (preds == labels).sum().item()\n",
        "        total_examples += inputs.size(0)\n",
        "        \n",
        "    avg_loss = total_loss / total_examples\n",
        "    train_accuracy = total_correct / total_examples\n",
        "    print(f\"Epoch {epoch+1}/{num_epochs} | Loss: {avg_loss:.4f}, Accuracy: {train_accuracy:.4f}\")\n",
        "\n",
        "# Save the trained model parameters\n",
        "torch.save(model.state_dict(), \"gru_model.pth\")"
      ]
    },
    {
      "cell_type": "code",
      "execution_count": 57,
      "metadata": {},
      "outputs": [
        {
          "name": "stdout",
          "output_type": "stream",
          "text": [
            "Test Loss: 0.3763, Test Accuracy: 0.8356\n"
          ]
        }
      ],
      "source": [
        "vocab_size = tokenizer.vocab_size\n",
        "model = GRUSentimentClassifier(vocab_size, embedding_dim=100, hidden_size=100, num_layers=3)\n",
        "\n",
        "device = 'mps' if torch.backends.mps.is_available() else 'cpu'\n",
        "model = model.to(device)\n",
        "\n",
        "# Load saved model params\n",
        "model.load_state_dict(torch.load(\"gru_model.pth\", map_location=device))\n",
        "\n",
        "criterion = nn.BCEWithLogitsLoss()\n",
        "\n",
        "# Evaluate on the test set\n",
        "model.eval()\n",
        "total_test_loss = 0.0\n",
        "total_test_correct = 0\n",
        "total_test_examples = 0\n",
        "\n",
        "with torch.no_grad():\n",
        "    for inputs, labels in test_loader:\n",
        "        inputs, labels = inputs.to(device), labels.to(device)\n",
        "        logits = model(inputs)\n",
        "        loss = criterion(logits, labels)\n",
        "        total_test_loss += loss.item() * inputs.size(0)\n",
        "        preds = (torch.sigmoid(logits) > 0.5).float()\n",
        "        total_test_correct += (preds == labels).sum().item()\n",
        "        total_test_examples += inputs.size(0)\n",
        "        \n",
        "avg_test_loss = total_test_loss / total_test_examples\n",
        "test_accuracy = total_test_correct / total_test_examples\n",
        "print(f\"Test Loss: {avg_test_loss:.4f}, Test Accuracy: {test_accuracy:.4f}\")"
      ]
    }
  ],
  "metadata": {
    "colab": {
      "provenance": []
    },
    "kernelspec": {
      "display_name": "env",
      "language": "python",
      "name": "python3"
    },
    "language_info": {
      "codemirror_mode": {
        "name": "ipython",
        "version": 3
      },
      "file_extension": ".py",
      "mimetype": "text/x-python",
      "name": "python",
      "nbconvert_exporter": "python",
      "pygments_lexer": "ipython3",
      "version": "3.10.6"
    }
  },
  "nbformat": 4,
  "nbformat_minor": 0
}
