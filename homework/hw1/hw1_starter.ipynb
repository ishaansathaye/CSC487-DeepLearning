{
 "cells": [
  {
   "cell_type": "code",
   "execution_count": 1,
   "metadata": {
    "colab": {
     "background_save": true
    },
    "id": "5OUW75f1w56j"
   },
   "outputs": [
    {
     "ename": "ModuleNotFoundError",
     "evalue": "No module named 'numpy'",
     "output_type": "error",
     "traceback": [
      "\u001b[0;31m---------------------------------------------------------------------------\u001b[0m",
      "\u001b[0;31mModuleNotFoundError\u001b[0m                       Traceback (most recent call last)",
      "Cell \u001b[0;32mIn[1], line 1\u001b[0m\n\u001b[0;32m----> 1\u001b[0m \u001b[38;5;28;01mimport\u001b[39;00m\u001b[38;5;250m \u001b[39m\u001b[38;5;21;01mnumpy\u001b[39;00m\u001b[38;5;250m \u001b[39m\u001b[38;5;28;01mas\u001b[39;00m\u001b[38;5;250m \u001b[39m\u001b[38;5;21;01mnp\u001b[39;00m\n\u001b[1;32m      2\u001b[0m \u001b[38;5;28;01mimport\u001b[39;00m\u001b[38;5;250m \u001b[39m\u001b[38;5;21;01msklearn\u001b[39;00m\n\u001b[1;32m      3\u001b[0m \u001b[38;5;28;01mimport\u001b[39;00m\u001b[38;5;250m \u001b[39m\u001b[38;5;21;01mtorch\u001b[39;00m\n",
      "\u001b[0;31mModuleNotFoundError\u001b[0m: No module named 'numpy'"
     ]
    }
   ],
   "source": [
    "import numpy as np\n",
    "import sklearn\n",
    "import torch\n",
    "import os"
   ]
  },
  {
   "cell_type": "code",
   "execution_count": 27,
   "metadata": {
    "colab": {
     "background_save": true
    },
    "id": "CNAG8fBHw_ns"
   },
   "outputs": [],
   "source": [
    "if not os.path.exists('tree_species_classifier_data.npz'):\n",
    "  !wget -O tree_species_classifier_data.npz \"https://www.dropbox.com/scl/fi/b7mw23k3ifaeui9m8nnn3/tree_species_classifier_data.npz?rlkey=bgxp37c1t04i7q35waf3slc26&dl=1\""
   ]
  },
  {
   "cell_type": "code",
   "execution_count": null,
   "metadata": {
    "colab": {
     "background_save": true
    },
    "id": "XSnb9owtxT5w"
   },
   "outputs": [],
   "source": [
    "data = np.load('tree_species_classifier_data.npz')\n",
    "train_features = data['train_features']\n",
    "train_labels = data['train_labels']\n",
    "test_features = data['test_features']\n",
    "test_labels = data['test_labels']\n",
    "\n",
    "# what is the shape and data type of each provided matrix?\n",
    "print(f'train_features shape: {train_features.shape}, dtype: {train_features.dtype}')\n",
    "print(f'train_labels shape: {train_labels.shape}, dtype: {train_labels.dtype}')\n",
    "print(f'test_features shape: {test_features.shape}, dtype: {test_features.dtype}')\n",
    "print(f'test_labels shape: {test_labels.shape}, dtype: {test_labels.dtype}')\n",
    "# what are the rows and columns of the matrix? - from paper\n",
    "# what are the ranges?\n",
    "print(f'train_features min: {train_features.min()}, max: {train_features.max()}')\n",
    "print(f'train_labels min: {train_labels.min()}, max: {train_labels.max()}')\n",
    "print(f'test_features min: {test_features.min()}, max: {test_features.max()}')\n",
    "print(f'test_labels min: {test_labels.min()}, max: {test_labels.max()}')\n",
    "# How many classes are there and what are the classes? - from paper\n",
    "# How many examples are provided of each class in the train and test splits?\n",
    "# get value counts of each class\n",
    "train_class_counts = np.unique(train_labels, return_counts=True)\n",
    "test_class_counts = np.unique(test_labels, return_counts=True)\n",
    "print(f'train class counts: {train_class_counts}')\n",
    "print(f'test class counts: {test_class_counts}')\n"
   ]
  },
  {
   "cell_type": "code",
   "execution_count": null,
   "metadata": {},
   "outputs": [],
   "source": [
    "# Preprocess the data\n",
    "from sklearn.decomposition import PCA\n",
    "\n",
    "pca = PCA(n_components=32, whiten=True)\n",
    "pca.fit(train_features)\n",
    "train_features_pca = pca.transform(train_features)\n",
    "test_features_pca = pca.transform(test_features)\n",
    "\n",
    "# Train a linear classifier and a neural network\n",
    "from sklearn.linear_model import LogisticRegression\n",
    "from sklearn.neural_network import MLPClassifier\n",
    "from sklearn.metrics import accuracy_score\n",
    "\n",
    "lr = LogisticRegression(max_iter=1000)\n",
    "lr.fit(train_features_pca, train_labels)\n",
    "lr_preds = lr.predict(test_features_pca)\n",
    "lr_acc = accuracy_score(test_labels, lr_preds)\n",
    "\n",
    "nnet = MLPClassifier(hidden_layer_sizes=(100, 100, 100), max_iter=1000)\n",
    "nnet.fit(train_features_pca, train_labels)\n",
    "nn_preds = nnet.predict(test_features_pca)\n",
    "nn_acc = accuracy_score(test_labels, nn_preds)\n",
    "\n",
    "print(\"Accuracy of the classifiers on the test set:\")\n",
    "print(f'Linear classifier accuracy: {lr_acc:.2f}')\n",
    "print(f'Neural network classifier accuracy: {nn_acc:.2f}')\n",
    "print()\n",
    "\n",
    "print(\"Accuracy of the classifiers on the training set:\")\n",
    "# Get accuracy of the linear classifier on the training set\n",
    "lr_train_preds = lr.predict(train_features_pca)\n",
    "lr_train_acc = accuracy_score(train_labels, lr_train_preds)\n",
    "print(f'Linear classifier training accuracy: {lr_train_acc:.2f}')\n",
    "\n",
    "# Get accuracy of the neural network on the training set\n",
    "nn_train_preds = nnet.predict(train_features_pca)\n",
    "nn_train_acc = accuracy_score(train_labels, nn_train_preds)\n",
    "print(f'Neural network training accuracy: {nn_train_acc:.2f}')"
   ]
  },
  {
   "cell_type": "code",
   "execution_count": null,
   "metadata": {},
   "outputs": [],
   "source": [
    "# Classifiers implemented in PyTorch\n",
    "\n",
    "from torch.utils.data import TensorDataset, DataLoader\n",
    "from torch import nn as nn\n",
    "from torch import optim\n",
    "\n",
    "train_dataset = TensorDataset(torch.tensor(train_features_pca, dtype=torch.float32), torch.tensor(train_labels, dtype=torch.long))\n",
    "train_loader = DataLoader(train_dataset, batch_size=32, shuffle=True)\n",
    "test_dataset = TensorDataset(torch.tensor(test_features_pca, dtype=torch.float32), torch.tensor(test_labels, dtype=torch.long))\n",
    "test_loader = DataLoader(test_dataset, batch_size=32, shuffle=False)\n",
    "\n",
    "def calculate_accuracy(model, loader):\n",
    "    correct = 0\n",
    "    total = 0\n",
    "    with torch.no_grad():\n",
    "        for features, labels in loader:\n",
    "            outputs = model(features)\n",
    "            _, preds = torch.max(outputs, 1)\n",
    "            correct += (preds == labels).sum().item()\n",
    "            total += labels.size(0)\n",
    "    return correct / total\n",
    "\n",
    "def train_model(model, train_loader, test_loader, num_epochs=100):\n",
    "    loss_fn = nn.CrossEntropyLoss()\n",
    "    optimizer = optim.SGD(model.parameters(), lr=1e-2, weight_decay=0.001)\n",
    "    for epoch in range(num_epochs):\n",
    "        model.train()\n",
    "        for features, labels in train_loader:\n",
    "            optimizer.zero_grad()\n",
    "            y_pred = model(features)\n",
    "            loss = loss_fn(y_pred, labels)\n",
    "            loss.backward()\n",
    "            optimizer.step()\n",
    "        model.eval()\n",
    "        train_acc = calculate_accuracy(model, train_loader)\n",
    "        test_acc = calculate_accuracy(model, test_loader)\n",
    "        print(f'Epoch {epoch + 1}/{num_epochs}, Train Accuracy: {train_acc:.2f}, Test Accuracy: {test_acc:.2f}')\n",
    "\n",
    "lm = nn.Linear(32, 8)\n",
    "train_model(lm, train_loader, test_loader)\n",
    "\n",
    "print()\n",
    "\n",
    "nnet = nn.Sequential(\n",
    "    nn.Linear(32, 100),\n",
    "    nn.ReLU(),\n",
    "    nn.Linear(100, 100),\n",
    "    nn.ReLU(),\n",
    "    nn.Linear(100, 100),\n",
    "    nn.ReLU(),\n",
    "    nn.Linear(100, 8)\n",
    ")\n",
    "train_model(nnet, train_loader, test_loader)"
   ]
  }
 ],
 "metadata": {
  "colab": {
   "authorship_tag": "ABX9TyNabx6sCRInWIIstR96Z5ey",
   "name": "",
   "version": ""
  },
  "kernelspec": {
   "display_name": "env",
   "language": "python",
   "name": "python3"
  },
  "language_info": {
   "codemirror_mode": {
    "name": "ipython",
    "version": 3
   },
   "file_extension": ".py",
   "mimetype": "text/x-python",
   "name": "python",
   "nbconvert_exporter": "python",
   "pygments_lexer": "ipython3",
   "version": "3.10.6"
  }
 },
 "nbformat": 4,
 "nbformat_minor": 0
}
