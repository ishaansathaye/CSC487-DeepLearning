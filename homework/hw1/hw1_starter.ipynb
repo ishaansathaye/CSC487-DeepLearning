{
 "cells": [
  {
   "cell_type": "code",
   "execution_count": 2,
   "metadata": {
    "colab": {
     "background_save": true
    },
    "id": "5OUW75f1w56j"
   },
   "outputs": [],
   "source": [
    "import numpy as np\n",
    "import sklearn\n",
    "import torch\n",
    "import os"
   ]
  },
  {
   "cell_type": "code",
   "execution_count": 3,
   "metadata": {
    "colab": {
     "background_save": true
    },
    "id": "CNAG8fBHw_ns"
   },
   "outputs": [
    {
     "name": "stdout",
     "output_type": "stream",
     "text": [
      "--2025-01-21 11:08:22--  https://www.dropbox.com/scl/fi/b7mw23k3ifaeui9m8nnn3/tree_species_classifier_data.npz?rlkey=bgxp37c1t04i7q35waf3slc26&dl=1\n",
      "Resolving www.dropbox.com (www.dropbox.com)... 162.125.13.18\n",
      "Connecting to www.dropbox.com (www.dropbox.com)|162.125.13.18|:443... connected.\n",
      "HTTP request sent, awaiting response... 302 Found\n",
      "Location: https://uc5851cbb0e4c11e19ea3f2f8efa.dl.dropboxusercontent.com/cd/0/inline/CipiB1exyS70QnnzxFvha1nYpS9ZjDbEpU4eZ-OFdBVH4L6oQd8XLROMV8VpiqDz2V5L5qeY6S9fxTCceht7yjrZGsMRiVKTpeVgzRzORI-Omoqlt-2D4U-kOC97SzpVUR6B11_QeRCaXexQJ14GIi1v/file?dl=1# [following]\n",
      "--2025-01-21 11:08:22--  https://uc5851cbb0e4c11e19ea3f2f8efa.dl.dropboxusercontent.com/cd/0/inline/CipiB1exyS70QnnzxFvha1nYpS9ZjDbEpU4eZ-OFdBVH4L6oQd8XLROMV8VpiqDz2V5L5qeY6S9fxTCceht7yjrZGsMRiVKTpeVgzRzORI-Omoqlt-2D4U-kOC97SzpVUR6B11_QeRCaXexQJ14GIi1v/file?dl=1\n",
      "Resolving uc5851cbb0e4c11e19ea3f2f8efa.dl.dropboxusercontent.com (uc5851cbb0e4c11e19ea3f2f8efa.dl.dropboxusercontent.com)... 162.125.13.15\n",
      "Connecting to uc5851cbb0e4c11e19ea3f2f8efa.dl.dropboxusercontent.com (uc5851cbb0e4c11e19ea3f2f8efa.dl.dropboxusercontent.com)|162.125.13.15|:443... connected.\n",
      "HTTP request sent, awaiting response... 302 Found\n",
      "Location: /cd/0/inline2/CipkhbVLfyk4CnMpgUxw00fgrM-QeRaJPXXIvbKJWYqMhNJeX0ngYDpFzQTHfX3pq2a6fYpNgPOwlZLDvATaSPPvg6nNFyH6ajg1PWaF6j-HylVZ1jM0PmuoBUpykSdVP35UiPoJyavVIfwGgv1MHpIWF1QzSfmisAmlFUY2V3M3Iv0ZOjyqUBLrR5Qi_GIFZ23CEhFVmz9lOHDI3IAgKV8alL7YC5_fxHzz0FJ7epU3SSm2uLebSZsIvqZiIafahfoMIFjII_l_Z1rIeJEO7EIy-vUxxp6a0UyLX9bhwuUPzbMC7ERpj7kmHQw1LCJMGnTbfuCBU8qgubYH7ZSLgfe0Zl2MyTZ7KGZHkpRhTuwRiLI3RmvlwdU6ueebdIEhij0/file?dl=1 [following]\n",
      "--2025-01-21 11:08:23--  https://uc5851cbb0e4c11e19ea3f2f8efa.dl.dropboxusercontent.com/cd/0/inline2/CipkhbVLfyk4CnMpgUxw00fgrM-QeRaJPXXIvbKJWYqMhNJeX0ngYDpFzQTHfX3pq2a6fYpNgPOwlZLDvATaSPPvg6nNFyH6ajg1PWaF6j-HylVZ1jM0PmuoBUpykSdVP35UiPoJyavVIfwGgv1MHpIWF1QzSfmisAmlFUY2V3M3Iv0ZOjyqUBLrR5Qi_GIFZ23CEhFVmz9lOHDI3IAgKV8alL7YC5_fxHzz0FJ7epU3SSm2uLebSZsIvqZiIafahfoMIFjII_l_Z1rIeJEO7EIy-vUxxp6a0UyLX9bhwuUPzbMC7ERpj7kmHQw1LCJMGnTbfuCBU8qgubYH7ZSLgfe0Zl2MyTZ7KGZHkpRhTuwRiLI3RmvlwdU6ueebdIEhij0/file?dl=1\n",
      "Reusing existing connection to uc5851cbb0e4c11e19ea3f2f8efa.dl.dropboxusercontent.com:443.\n",
      "HTTP request sent, awaiting response... 200 OK\n",
      "Length: 14724683 (14M) [application/binary]\n",
      "Saving to: ‘tree_species_classifier_data.npz’\n",
      "\n",
      "tree_species_classi 100%[===================>]  14.04M  25.6MB/s    in 0.5s    \n",
      "\n",
      "2025-01-21 11:08:24 (25.6 MB/s) - ‘tree_species_classifier_data.npz’ saved [14724683/14724683]\n",
      "\n"
     ]
    }
   ],
   "source": [
    "if not os.path.exists('tree_species_classifier_data.npz'):\n",
    "  !wget -O tree_species_classifier_data.npz \"https://www.dropbox.com/scl/fi/b7mw23k3ifaeui9m8nnn3/tree_species_classifier_data.npz?rlkey=bgxp37c1t04i7q35waf3slc26&dl=1\""
   ]
  },
  {
   "cell_type": "code",
   "execution_count": 4,
   "metadata": {
    "colab": {
     "background_save": true
    },
    "id": "XSnb9owtxT5w"
   },
   "outputs": [],
   "source": [
    "data = np.load('tree_species_classifier_data.npz')\n",
    "train_features = data['train_features']\n",
    "train_labels = data['train_labels']\n",
    "test_features = data['test_features']\n",
    "test_labels = data['test_labels']"
   ]
  }
 ],
 "metadata": {
  "colab": {
   "authorship_tag": "ABX9TyNabx6sCRInWIIstR96Z5ey",
   "name": "",
   "version": ""
  },
  "kernelspec": {
   "display_name": "Python 3",
   "name": "python3"
  },
  "language_info": {
   "codemirror_mode": {
    "name": "ipython",
    "version": 3
   },
   "file_extension": ".py",
   "mimetype": "text/x-python",
   "name": "python",
   "nbconvert_exporter": "python",
   "pygments_lexer": "ipython3",
   "version": "3.9.6"
  }
 },
 "nbformat": 4,
 "nbformat_minor": 0
}
